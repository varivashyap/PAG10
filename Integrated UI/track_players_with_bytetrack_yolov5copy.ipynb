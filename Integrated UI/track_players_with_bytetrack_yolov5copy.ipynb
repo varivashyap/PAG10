{
 "cells": [
  {
   "attachments": {},
   "cell_type": "markdown",
   "metadata": {
    "id": "-ylGIuQ-1L7B"
   },
   "source": [
    "# Track football players with YOLOv5 + ByteTrack \n",
    "\n",
    "ByteTrack is a multi object tracker that identifies and identifies the trajectory of objects with accuracy.\n",
    "\n",
    "In this notebook we will track football players on the field from YOLOv5 predictions. The videos of this project can be found in this kaggle [DFL - Bundesliga Data Shootout](https://www.kaggle.com/competitions/dfl-bundesliga-data-shootout/data) comptetition.\n",
    "\n",
    "YOLOv8 was trained on [football-players-detection](https://universe.roboflow.com/roboflow-jvuqo/football-players-detection-3zvbc) dataset from Roboflow .The weights can be found [here](https://drive.google.com/drive/folders/1-1r2psRgW7JRSEykRmvUYEY31ufuxiDb?usp=share_link)\n"
   ]
  },
  {
   "cell_type": "markdown",
   "metadata": {
    "id": "lRBpaagO29lp"
   },
   "source": [
    "Setup"
   ]
  },
  {
   "cell_type": "code",
   "execution_count": null,
   "metadata": {
    "colab": {
     "base_uri": "https://localhost:8080/"
    },
    "id": "rwG-dTgoDEn_",
    "outputId": "b581a3fa-b87f-4cb7-82a3-6556de21456d"
   },
   "outputs": [
    {
     "name": "stdout",
     "output_type": "stream",
     "text": [
      "Cloning into 'ByteTrack'...\n",
      "remote: Enumerating objects: 2007, done.\u001b[K\n",
      "remote: Total 2007 (delta 0), reused 0 (delta 0), pack-reused 2007 (from 1)\u001b[K\n",
      "Receiving objects: 100% (2007/2007), 79.60 MiB | 11.72 MiB/s, done.\n",
      "Resolving deltas: 100% (1141/1141), done.\n",
      "running develop\n",
      "/home/urvashi2022/.local/lib/python3.10/site-packages/setuptools/command/develop.py:41: EasyInstallDeprecationWarning: easy_install command is deprecated.\n",
      "!!\n",
      "\n",
      "        ********************************************************************************\n",
      "        Please avoid running ``setup.py`` and ``easy_install``.\n",
      "        Instead, use pypa/build, pypa/installer or other\n",
      "        standards-based tools.\n",
      "\n",
      "        See https://github.com/pypa/setuptools/issues/917 for details.\n",
      "        ********************************************************************************\n",
      "\n",
      "!!\n",
      "  easy_install.initialize_options(self)\n",
      "/home/urvashi2022/.local/lib/python3.10/site-packages/setuptools/_distutils/cmd.py:66: SetuptoolsDeprecationWarning: setup.py install is deprecated.\n",
      "!!\n",
      "\n",
      "        ********************************************************************************\n",
      "        Please avoid running ``setup.py`` directly.\n",
      "        Instead, use pypa/build, pypa/installer or other\n",
      "        standards-based tools.\n",
      "\n",
      "        See https://blog.ganssle.io/articles/2021/10/setup-py-deprecated.html for details.\n",
      "        ********************************************************************************\n",
      "\n",
      "!!\n",
      "  self.initialize_options()\n",
      "error: can't create or remove files in install directory\n",
      "\n",
      "The following error occurred while trying to add or remove files in the\n",
      "installation directory:\n",
      "\n",
      "    [Errno 13] Permission denied: '/usr/local/lib/python3.10/dist-packages/test-easy-install-1998490.write-test'\n",
      "\n",
      "The installation directory you specified (via --install-dir, --prefix, or\n",
      "the distutils default setting) was:\n",
      "\n",
      "    /usr/local/lib/python3.10/dist-packages/\n",
      "\n",
      "Perhaps your account does not have write access to this directory?  If the\n",
      "installation directory is a system-owned directory, you may need to sign in\n",
      "as the administrator or \"root\" account.  If you do not have administrative\n",
      "access to this machine, you may wish to choose a different installation\n",
      "directory, preferably one that is listed in your PYTHONPATH environment\n",
      "variable.\n",
      "\n",
      "For information on other options, you may wish to consult the\n",
      "documentation at:\n",
      "\n",
      "  https://setuptools.pypa.io/en/latest/deprecated/easy_install.html\n",
      "\n",
      "Please make the appropriate changes for your system and try again.\n",
      "\n",
      "Defaulting to user installation because normal site-packages is not writeable\n",
      "Collecting cython_bbox\n",
      "  Downloading cython_bbox-0.1.5.tar.gz (4.4 kB)\n",
      "  Preparing metadata (setup.py) ... \u001b[?25ldone\n",
      "\u001b[?25hRequirement already satisfied: Cython in /home/urvashi2022/.local/lib/python3.10/site-packages (from cython_bbox) (3.0.11)\n",
      "Requirement already satisfied: numpy in /home/urvashi2022/.local/lib/python3.10/site-packages (from cython_bbox) (1.26.4)\n",
      "Building wheels for collected packages: cython_bbox\n",
      "  Building wheel for cython_bbox (setup.py) ... \u001b[?25ldone\n",
      "\u001b[?25h  Created wheel for cython_bbox: filename=cython_bbox-0.1.5-cp310-cp310-linux_x86_64.whl size=99133 sha256=a5bd485c0a9891a8f03039fa60fe40ed3a15260fdc46f0226337048a5195ace4\n",
      "  Stored in directory: /home/urvashi2022/.cache/pip/wheels/c0/b7/68/bab98b7180cda501101a57fb7d36884218ad45ec60c27cd679\n",
      "Successfully built cython_bbox\n",
      "Installing collected packages: cython_bbox\n",
      "Successfully installed cython_bbox-0.1.5\n"
     ]
    }
   ],
   "source": [
    "#!git clone https://github.com/ifzhang/ByteTrack.git\n",
    "!cd ByteTrack #&& pip3 install -r requirements.txt\n",
    "#!cd ByteTrack #&& python3 setup.py develop\n",
    "#!pip install cython_bbox"
   ]
  },
  {
   "cell_type": "code",
   "execution_count": null,
   "metadata": {
    "id": "fhsFAlAbgu43"
   },
   "outputs": [],
   "source": [
    "# !pip install onemetric --quiet "
   ]
  },
  {
   "cell_type": "code",
   "execution_count": 1,
   "metadata": {
    "id": "AiWkqt2yDFyN"
   },
   "outputs": [],
   "source": [
    "import sys\n",
    "sys.path.append(\"ByteTrack\")"
   ]
  },
  {
   "cell_type": "code",
   "execution_count": 2,
   "metadata": {
    "id": "2rqsXLx1EVRB"
   },
   "outputs": [
    {
     "name": "stderr",
     "output_type": "stream",
     "text": [
      "/home/urvashi2022/.local/lib/python3.10/site-packages/tqdm/auto.py:21: TqdmWarning: IProgress not found. Please update jupyter and ipywidgets. See https://ipywidgets.readthedocs.io/en/stable/user_install.html\n",
      "  from .autonotebook import tqdm as notebook_tqdm\n"
     ]
    }
   ],
   "source": [
    "from yolox.tracker.byte_tracker import BYTETracker, STrack\n",
    "import cv2\n",
    "import torch\n",
    "import matplotlib.pyplot as plt\n",
    "from tqdm import tqdm\n",
    "import numpy as np\n",
    "from pathlib import Path\n",
    "from onemetric.cv.utils.iou import box_iou_batch\n",
    "from dataclasses import dataclass\n",
    "from typing import List, Optional"
   ]
  },
  {
   "cell_type": "code",
   "execution_count": null,
   "metadata": {},
   "outputs": [
    {
     "name": "stdout",
     "output_type": "stream",
     "text": [
      "Defaulting to user installation because normal site-packages is not writeable\n",
      "Collecting yolox\n",
      "  Using cached yolox-0.3.0.tar.gz (79 kB)\n",
      "  Preparing metadata (setup.py) ... \u001b[?25ldone\n",
      "\u001b[?25hRequirement already satisfied: numpy in /home/urvashi2022/.local/lib/python3.10/site-packages (from yolox) (1.26.4)\n",
      "Requirement already satisfied: torch>=1.7 in /home/urvashi2022/.local/lib/python3.10/site-packages (from yolox) (1.13.1)\n",
      "Requirement already satisfied: opencv_python in /home/urvashi2022/.local/lib/python3.10/site-packages (from yolox) (4.10.0.84)\n",
      "Requirement already satisfied: loguru in /home/urvashi2022/.local/lib/python3.10/site-packages (from yolox) (0.7.2)\n",
      "Requirement already satisfied: scikit-image in /home/urvashi2022/.local/lib/python3.10/site-packages (from yolox) (0.24.0)\n",
      "Requirement already satisfied: tqdm in /home/urvashi2022/.local/lib/python3.10/site-packages (from yolox) (4.66.6)\n",
      "Requirement already satisfied: torchvision in /home/urvashi2022/.local/lib/python3.10/site-packages (from yolox) (0.14.1)\n",
      "Requirement already satisfied: Pillow in /home/urvashi2022/.local/lib/python3.10/site-packages (from yolox) (11.0.0)\n",
      "Requirement already satisfied: thop in /home/urvashi2022/.local/lib/python3.10/site-packages (from yolox) (0.1.1.post2209072238)\n",
      "Requirement already satisfied: ninja in /home/urvashi2022/.local/lib/python3.10/site-packages (from yolox) (1.11.1.1)\n",
      "Requirement already satisfied: tabulate in /home/urvashi2022/.local/lib/python3.10/site-packages (from yolox) (0.9.0)\n",
      "Requirement already satisfied: tensorboard in /home/urvashi2022/.local/lib/python3.10/site-packages (from yolox) (2.18.0)\n",
      "Requirement already satisfied: pycocotools>=2.0.2 in /home/urvashi2022/.local/lib/python3.10/site-packages (from yolox) (2.0.8)\n",
      "Collecting onnx==1.8.1 (from yolox)\n",
      "  Using cached onnx-1.8.1.tar.gz (5.2 MB)\n",
      "  Installing build dependencies ... \u001b[?25ldone\n",
      "\u001b[?25h  Getting requirements to build wheel ... \u001b[?25lerror\n",
      "  \u001b[1;31merror\u001b[0m: \u001b[1msubprocess-exited-with-error\u001b[0m\n",
      "  \n",
      "  \u001b[31m×\u001b[0m \u001b[32mGetting requirements to build wheel\u001b[0m did not run successfully.\n",
      "  \u001b[31m│\u001b[0m exit code: \u001b[1;36m1\u001b[0m\n",
      "  \u001b[31m╰─>\u001b[0m \u001b[31m[20 lines of output]\u001b[0m\n",
      "  \u001b[31m   \u001b[0m <string>:32: DeprecationWarning: Use shutil.which instead of find_executable\n",
      "  \u001b[31m   \u001b[0m <string>:33: DeprecationWarning: Use shutil.which instead of find_executable\n",
      "  \u001b[31m   \u001b[0m fatal: not a git repository (or any of the parent directories): .git\n",
      "  \u001b[31m   \u001b[0m Traceback (most recent call last):\n",
      "  \u001b[31m   \u001b[0m   File \"/home/urvashi2022/.local/lib/python3.10/site-packages/pip/_vendor/pyproject_hooks/_in_process/_in_process.py\", line 353, in <module>\n",
      "  \u001b[31m   \u001b[0m     main()\n",
      "  \u001b[31m   \u001b[0m   File \"/home/urvashi2022/.local/lib/python3.10/site-packages/pip/_vendor/pyproject_hooks/_in_process/_in_process.py\", line 335, in main\n",
      "  \u001b[31m   \u001b[0m     json_out['return_val'] = hook(**hook_input['kwargs'])\n",
      "  \u001b[31m   \u001b[0m   File \"/home/urvashi2022/.local/lib/python3.10/site-packages/pip/_vendor/pyproject_hooks/_in_process/_in_process.py\", line 118, in get_requires_for_build_wheel\n",
      "  \u001b[31m   \u001b[0m     return hook(config_settings)\n",
      "  \u001b[31m   \u001b[0m   File \"/tmp/pip-build-env-rcdv3u44/overlay/local/lib/python3.10/dist-packages/setuptools/build_meta.py\", line 334, in get_requires_for_build_wheel\n",
      "  \u001b[31m   \u001b[0m     return self._get_build_requires(config_settings, requirements=[])\n",
      "  \u001b[31m   \u001b[0m   File \"/tmp/pip-build-env-rcdv3u44/overlay/local/lib/python3.10/dist-packages/setuptools/build_meta.py\", line 304, in _get_build_requires\n",
      "  \u001b[31m   \u001b[0m     self.run_setup()\n",
      "  \u001b[31m   \u001b[0m   File \"/tmp/pip-build-env-rcdv3u44/overlay/local/lib/python3.10/dist-packages/setuptools/build_meta.py\", line 522, in run_setup\n",
      "  \u001b[31m   \u001b[0m     super().run_setup(setup_script=setup_script)\n",
      "  \u001b[31m   \u001b[0m   File \"/tmp/pip-build-env-rcdv3u44/overlay/local/lib/python3.10/dist-packages/setuptools/build_meta.py\", line 320, in run_setup\n",
      "  \u001b[31m   \u001b[0m     exec(code, locals())\n",
      "  \u001b[31m   \u001b[0m   File \"<string>\", line 75, in <module>\n",
      "  \u001b[31m   \u001b[0m AssertionError: Could not find \"cmake\" executable!\n",
      "  \u001b[31m   \u001b[0m \u001b[31m[end of output]\u001b[0m\n",
      "  \n",
      "  \u001b[1;35mnote\u001b[0m: This error originates from a subprocess, and is likely not a problem with pip.\n",
      "\u001b[?25h\u001b[1;31merror\u001b[0m: \u001b[1msubprocess-exited-with-error\u001b[0m\n",
      "\n",
      "\u001b[31m×\u001b[0m \u001b[32mGetting requirements to build wheel\u001b[0m did not run successfully.\n",
      "\u001b[31m│\u001b[0m exit code: \u001b[1;36m1\u001b[0m\n",
      "\u001b[31m╰─>\u001b[0m See above for output.\n",
      "\n",
      "\u001b[1;35mnote\u001b[0m: This error originates from a subprocess, and is likely not a problem with pip.\n"
     ]
    }
   ],
   "source": [
    "# !pip install yolox"
   ]
  },
  {
   "cell_type": "code",
   "execution_count": null,
   "metadata": {},
   "outputs": [
    {
     "name": "stdout",
     "output_type": "stream",
     "text": [
      "Defaulting to user installation because normal site-packages is not writeable\n",
      "Requirement already satisfied: thop in /home/urvashi2022/.local/lib/python3.10/site-packages (0.1.1.post2209072238)\n",
      "Requirement already satisfied: torch in /home/urvashi2022/.local/lib/python3.10/site-packages (from thop) (1.13.1)\n",
      "Requirement already satisfied: typing-extensions in /home/urvashi2022/.local/lib/python3.10/site-packages (from torch->thop) (4.12.2)\n",
      "Requirement already satisfied: nvidia-cuda-runtime-cu11==11.7.99 in /home/urvashi2022/.local/lib/python3.10/site-packages (from torch->thop) (11.7.99)\n",
      "Requirement already satisfied: nvidia-cudnn-cu11==8.5.0.96 in /home/urvashi2022/.local/lib/python3.10/site-packages (from torch->thop) (8.5.0.96)\n",
      "Requirement already satisfied: nvidia-cublas-cu11==11.10.3.66 in /home/urvashi2022/.local/lib/python3.10/site-packages (from torch->thop) (11.10.3.66)\n",
      "Requirement already satisfied: nvidia-cuda-nvrtc-cu11==11.7.99 in /home/urvashi2022/.local/lib/python3.10/site-packages (from torch->thop) (11.7.99)\n",
      "Requirement already satisfied: setuptools in /home/urvashi2022/.local/lib/python3.10/site-packages (from nvidia-cublas-cu11==11.10.3.66->torch->thop) (75.3.0)\n",
      "Requirement already satisfied: wheel in /home/urvashi2022/.local/lib/python3.10/site-packages (from nvidia-cublas-cu11==11.10.3.66->torch->thop) (0.44.0)\n"
     ]
    }
   ],
   "source": [
    "# !pip install thop"
   ]
  },
  {
   "cell_type": "code",
   "execution_count": null,
   "metadata": {},
   "outputs": [
    {
     "name": "stdout",
     "output_type": "stream",
     "text": [
      "Defaulting to user installation because normal site-packages is not writeable\n",
      "Requirement already satisfied: loguru in /home/urvashi2022/.local/lib/python3.10/site-packages (0.7.2)\n"
     ]
    }
   ],
   "source": [
    "# !pip install loguru"
   ]
  },
  {
   "cell_type": "markdown",
   "metadata": {
    "id": "2iPYZptg3ArD"
   },
   "source": [
    "Load the video"
   ]
  },
  {
   "cell_type": "code",
   "execution_count": 6,
   "metadata": {
    "id": "QR5o2AJaK8V3"
   },
   "outputs": [],
   "source": [
    "def get_video_frames(video_path):\n",
    "\n",
    "    video = cv2.VideoCapture(str(video_path))\n",
    "\n",
    "    frames = []\n",
    "    while video.isOpened():\n",
    "        success, frame = video.read()\n",
    "        if not success:\n",
    "            break\n",
    "        frames.append(frame)\n",
    "\n",
    "    video.release()\n",
    "\n",
    "    return frames"
   ]
  },
  {
   "cell_type": "code",
   "execution_count": 7,
   "metadata": {
    "id": "nFHQmUutLJtG"
   },
   "outputs": [],
   "source": [
    "video_path = \"/home/urvashi2022/Desktop/UI_DEVELOPMENT/inputv.mp4\""
   ]
  },
  {
   "cell_type": "code",
   "execution_count": 8,
   "metadata": {
    "id": "xZROMSzvMPap"
   },
   "outputs": [],
   "source": [
    "frames = get_video_frames(video_path)"
   ]
  },
  {
   "cell_type": "code",
   "execution_count": 9,
   "metadata": {
    "colab": {
     "base_uri": "https://localhost:8080/",
     "height": 679
    },
    "id": "UlrwyyK1MWkd",
    "outputId": "d6cdcca8-9f86-4b0f-ee0d-938f96f4ce3e"
   },
   "outputs": [],
   "source": [
    "# plt.figure(figsize=(20, 20))\n",
    "# plt.imshow(cv2.cvtColor(frames[0], cv2.COLOR_BGR2RGB))\n",
    "# plt.show()\n",
    "\n",
    "# # Save the image\n",
    "\n",
    "# cv2.imwrite(\"frame.jpg\", frames[100])"
   ]
  },
  {
   "cell_type": "markdown",
   "metadata": {
    "id": "DWVY6FyE3GAu"
   },
   "source": [
    "Load YOLOv5"
   ]
  },
  {
   "cell_type": "code",
   "execution_count": 10,
   "metadata": {
    "colab": {
     "base_uri": "https://localhost:8080/"
    },
    "id": "ymY7thLHirEK",
    "outputId": "c78df8e1-5005-4dcd-8a9c-49fa9f48b606"
   },
   "outputs": [
    {
     "name": "stderr",
     "output_type": "stream",
     "text": [
      "Downloading: \"https://github.com/ultralytics/yolov5/zipball/master\" to /home/urvashi2022/.cache/torch/hub/master.zip\n",
      "\u001b[31m\u001b[1mrequirements:\u001b[0m Ultralytics requirement ['ultralytics>=8.2.34'] not found, attempting AutoUpdate...\n",
      "\u001b[31m\u001b[1mrequirements:\u001b[0m ❌ AutoUpdate skipped (offline)\n",
      "YOLOv5 🚀 2024-11-14 Python-3.10.12 torch-1.13.1+cu117 CPU\n",
      "\n",
      "Fusing layers... \n",
      "Model summary: 212 layers, 20865057 parameters, 0 gradients, 47.9 GFLOPs\n",
      "Adding AutoShape... \n"
     ]
    }
   ],
   "source": [
    "path_weights = \"/home/urvashi2022/Desktop/UI_DEVELOPMENT/tracking/best300.pt\"\n",
    "yolo_model = torch.hub.load('ultralytics/yolov5', 'custom', path_weights, device=\"cpu\", force_reload=True)"
   ]
  },
  {
   "cell_type": "code",
   "execution_count": 11,
   "metadata": {
    "id": "sAQ5r-JWK3xJ"
   },
   "outputs": [],
   "source": [
    "ind_to_cls = {\n",
    "    0: \"ball\",\n",
    "    1 : \"goalkeeper\",\n",
    "    2 : \"player\",\n",
    "    3 : \"referee\"\n",
    "}\n",
    "\n",
    "colors = {\n",
    "    \"ball\": (0,200,200), # yellow\n",
    "    \"player\": (255,0,0), # blue\n",
    "    \"goalkeeper\":(255,0,255), # magenta\n",
    "    \"referee\": (0,0,255) # red\n",
    "}\n",
    "\n",
    "colors1 = {\n",
    "  \"Team1\" : (0, 0, 0),\n",
    "  \"Team2\" : (255, 255, 255)\n",
    "}\n",
    "\n",
    "@dataclass\n",
    "class Detection:\n",
    "    xywh: List[float]\n",
    "    xyxy: List[float]\n",
    "    class_id: int\n",
    "    class_name: str\n",
    "    confidence: float\n",
    "    tracker_id: Optional[int] = None\n",
    "\n",
    "    @classmethod\n",
    "    def from_results(cls, pred):\n",
    "        result = []\n",
    "        for x_min, y_min, x_max, y_max, confidence, class_id in pred:\n",
    "            class_id=int(class_id)\n",
    "            result.append(Detection(\n",
    "                xywh=[float(x_min), float(y_min), float(x_max - x_min), float(y_max - y_min)],\n",
    "                xyxy=[float(x_min), float(y_min), float(x_max), float(y_max)],\n",
    "                class_id=class_id,\n",
    "                class_name=ind_to_cls[class_id],\n",
    "                confidence=float(confidence)\n",
    "            ))\n",
    "        return result\n",
    "    \n",
    "def draw_detections(image, detections, draw_tacker_id: bool = False):\n",
    "  image = image.copy()\n",
    "  for pred in detections:\n",
    "    bbox = pred.xyxy\n",
    "    cls = pred.class_name\n",
    "    #cv2.rectangle(img=image, pt1=tuple([int(b) for b in bbox[:2]]), pt2=tuple([int(b) for b in bbox[2:]]), color=colors[cls], thickness=3)\n",
    "    \n",
    "    center_bottom = (int((bbox[0] + bbox[2]) / 2), int(bbox[3]))\n",
    "    bbox_width = int(bbox[2] - bbox[0])\n",
    "    \n",
    "    # Draw an ellipse at the bottom center of the bounding box\n",
    "    cv2.ellipse(image, center_bottom, (bbox_width // 2, 8), 0, 0, 180, color=colors[cls], thickness=3)\n",
    "        \n",
    "    if draw_tacker_id and cls != \"ball\":\n",
    "      cv2.putText(image, str(pred.tracker_id), (int(bbox[0]), int(bbox[1])-10), cv2.FONT_HERSHEY_SIMPLEX, 0.9, colors[cls], 3)\n",
    "    else:\n",
    "      cv2.putText(image, cls, (int(bbox[0]), int(bbox[1])-10), cv2.FONT_HERSHEY_SIMPLEX, 0.9, colors[cls], 3)\n",
    "\n",
    "  return image\n",
    "\n",
    "prediction = yolo_model(frames[0]).pred[0].cpu().numpy()\n",
    "\n",
    "image = draw_detections(frames[0], Detection.from_results(prediction))\n",
    "\n",
    "# plt.figure(figsize=(20, 20))\n",
    "# plt.imshow(cv2.cvtColor(image, cv2.COLOR_BGR2RGB))\n",
    "# plt.grid(False)\n",
    "# plt.show()\n",
    "\n",
    "# # Save the image\n",
    "\n",
    "# cv2.imwrite(\"detections.jpg\", image)"
   ]
  },
  {
   "cell_type": "code",
   "execution_count": 12,
   "metadata": {},
   "outputs": [],
   "source": [
    "# from sklearn.cluster import KMeans\n",
    "# import numpy as np\n",
    "\n",
    "# ind_to_cls = {\n",
    "#     0: \"ball\",\n",
    "#     1 : \"goalkeeper\",\n",
    "#     2 : \"player\",\n",
    "#     3 : \"referee\"\n",
    "# }\n",
    "\n",
    "# colors = {\n",
    "#     \"ball\": (0,200,200), # yellow\n",
    "#     \"player\": (255,0,0), # blue\n",
    "#     \"goalkeeper\":(255,0,255), # magenta\n",
    "#     \"referee\": (0,0,255) # red\n",
    "# }\n",
    "\n",
    "# colors1 = {\n",
    "#   \"Team1\" : (0, 0, 225),\n",
    "#   \"Team2\" : (255, 0, 0)\n",
    "# }\n",
    "\n",
    "# # def identify_team_color(image, bbox):\n",
    "# #     \"\"\"\n",
    "# #     Identify the team color of the player based on the bounding box region.\n",
    "# #     \"\"\"\n",
    "# #     # Extract the region within the bounding box\n",
    "# #     x_min, y_min, x_max, y_max = map(int, bbox)\n",
    "# #     player_roi = image[y_min:y_max, x_min:x_max]\n",
    "\n",
    "# #     # Reshape the ROI to a list of pixels\n",
    "# #     pixels = player_roi.reshape(-1, 3)\n",
    "\n",
    "# #     # Apply K-means clustering to find the dominant color (assuming 2 clusters)\n",
    "# #     kmeans = KMeans(n_clusters=2, random_state=0).fit(pixels)\n",
    "# #     dominant_color = kmeans.cluster_centers_[kmeans.labels_[0]].astype(int)\n",
    "\n",
    "# #     # Define color thresholds for Team1 and Team2 (black and white in this example)\n",
    "# #     team1_color = np.array([0, 0, 0])       # Color for Team1 (black)\n",
    "# #     team2_color = np.array([255, 255, 255]) # Color for Team2 (white)\n",
    "\n",
    "# #     # Calculate distance to each team color\n",
    "# #     dist_to_team1 = np.linalg.norm(dominant_color - team1_color)\n",
    "# #     dist_to_team2 = np.linalg.norm(dominant_color - team2_color)\n",
    "\n",
    "# #     # Assign team based on the closest color match\n",
    "# #     return \"Team1\" if dist_to_team1 < dist_to_team2 else \"Team2\"\n",
    "\n",
    "# @dataclass\n",
    "# class Detection:\n",
    "#     xywh: List[float]\n",
    "#     xyxy: List[float]\n",
    "#     class_id: int\n",
    "#     class_name: str\n",
    "#     confidence: float\n",
    "#     tracker_id: Optional[int] = None\n",
    "\n",
    "#     @classmethod\n",
    "#     def from_results(cls, pred, image):\n",
    "#         result = []\n",
    "#         for x_min, y_min, x_max, y_max, confidence, class_id in pred:\n",
    "#             class_id = int(class_id)\n",
    "#             detection = Detection(\n",
    "#                 xywh=[float(x_min), float(y_min), float(x_max - x_min), float(y_max - y_min)],\n",
    "#                 xyxy=[float(x_min), float(y_min), float(x_max), float(y_max)],\n",
    "#                 class_id=class_id,\n",
    "#                 class_name=ind_to_cls[class_id],\n",
    "#                 confidence=float(confidence)\n",
    "#             )\n",
    "#             result.append(detection)\n",
    "#         return result\n",
    "\n",
    "# def draw_detections(image, detections, draw_tracker_id: bool = False):\n",
    "    \n",
    "#     image = image.copy()\n",
    "#     for pred in detections:\n",
    "#         bbox = pred.xyxy\n",
    "#         cls = pred.class_name\n",
    "#         x_min, y_min, x_max, y_max = map(int, bbox)\n",
    "#         player_roi = image[y_min:y_max, x_min:x_max]\n",
    "\n",
    "#         # Reshape the ROI to a list of pixels\n",
    "#         pixels = player_roi.reshape(-1, 3)\n",
    "\n",
    "#         # Apply K-means clustering to find the dominant color (assuming 2 clusters)\n",
    "#         kmeans = KMeans(n_clusters=2, random_state=0).fit(pixels)\n",
    "#         dominant_color = kmeans.cluster_centers_[kmeans.labels_[0]].astype(int)\n",
    "\n",
    "#         # Define color thresholds for Team1 and Team2 (black and white in this example)\n",
    "#         team1_color = np.array([0, 0, 0])       # Color for Team1 (black)\n",
    "#         team2_color = np.array([255, 255, 255]) # Color for Team2 (white)\n",
    "\n",
    "#         # Calculate distance to each team color\n",
    "#         dist_to_team1 = np.linalg.norm(dominant_color - team1_color)\n",
    "#         dist_to_team2 = np.linalg.norm(dominant_color - team2_color)\n",
    "\n",
    "#         team = \"Team1\" if dist_to_team1 < dist_to_team2 else \"Team2\"\n",
    "    \n",
    "#         # Draw the bounding ellipse or box\n",
    "#         center_bottom = (int((bbox[0] + bbox[2]) / 2), int(bbox[3]))\n",
    "#         bbox_width = int(bbox[2] - bbox[0])\n",
    "       \n",
    "#         cv2.ellipse(image, center_bottom, (bbox_width // 2, 8), 0, 0, 180, color=colors[cls], thickness=1)\n",
    "        \n",
    "#         if draw_tracker_id and cls != \"ball\":\n",
    "#             cv2.putText(image, f\"{pred.tracker_id}\", (int(bbox[0]), int(bbox[1]) - 10),\n",
    "#                         cv2.FONT_HERSHEY_SIMPLEX, 0.9, colors1[team], 3)\n",
    "#         else:\n",
    "#             cv2.putText(image, cls, (int(bbox[0]), int(bbox[1]) - 10), cv2.FONT_HERSHEY_SIMPLEX, 0.9, colors1[team], 3)\n",
    "\n",
    "#     return image\n",
    "\n",
    "# # Usage example\n",
    "# prediction = yolo_model(frames[0]).pred[0].cpu().numpy()\n",
    "# image = draw_detections(frames[0], Detection.from_results(prediction, frames[0]))\n",
    "\n",
    "\n",
    "# plt.figure(figsize=(20, 20))\n",
    "# plt.imshow(cv2.cvtColor(image, cv2.COLOR_BGR2RGB))\n",
    "# plt.grid(False)\n",
    "# plt.show()\n",
    "\n",
    "# # Save the image\n",
    "\n",
    "# cv2.imwrite(\"detections1.jpg\", image)\n"
   ]
  },
  {
   "cell_type": "markdown",
   "metadata": {
    "id": "HH0VLbYB4vy6"
   },
   "source": [
    "## Create ByteTracker\n",
    "\n",
    "ByteTrack creates trackers that are identified and attempts to find their trajectory across the frames.  \n",
    "Also it expects the detection to have this format: (x1, y1, x2, y2, conf).\n",
    "\n",
    "So we need to convert yolo detections to ByteTrack format and also identify they correspond to which tracker that is followed by ByteTrack."
   ]
  },
  {
   "cell_type": "code",
   "execution_count": 13,
   "metadata": {
    "id": "vg8Tgo0TETu2"
   },
   "outputs": [],
   "source": [
    "from dataclasses import dataclass\n",
    "\n",
    "@dataclass(frozen=True)\n",
    "class BYTETrackerArgs:\n",
    "  track_thresh: float = 0.25\n",
    "  track_buffer: int = 30\n",
    "  match_thresh: float = 0.8\n",
    "  aspect_ratio_thresh: float = 3.0\n",
    "  min_box_area: float = 1.0\n",
    "  mot20: bool = False"
   ]
  },
  {
   "cell_type": "code",
   "execution_count": 14,
   "metadata": {
    "id": "Pg_f_ExAFOUZ"
   },
   "outputs": [],
   "source": [
    "# initiate tracker\n",
    "byte_tracker = BYTETracker(BYTETrackerArgs)"
   ]
  },
  {
   "cell_type": "code",
   "execution_count": 15,
   "metadata": {
    "id": "MlpXsg9oLW8g"
   },
   "outputs": [],
   "source": [
    "def format_predictions(predictions, with_conf: bool = True):\n",
    "  \"\"\"\n",
    "  Format yolo detection to ByteTracke format: (x1, y1, x2, y2, conf)\n",
    "  \"\"\"\n",
    "  frame_detections = []\n",
    "  for pred in predictions:\n",
    "      bbox = pred.xyxy\n",
    "      conf = pred.confidence\n",
    "      if with_conf:\n",
    "        detection = bbox + [conf]\n",
    "      else:\n",
    "        detection = bbox\n",
    "\n",
    "      frame_detections.append(detection)\n",
    "  return np.array(frame_detections, dtype=float)\n"
   ]
  },
  {
   "cell_type": "code",
   "execution_count": 16,
   "metadata": {
    "id": "WgK4ZNm4P0yX"
   },
   "outputs": [],
   "source": [
    "def match_detections_with_tracks(detections, tracks):\n",
    "  \"\"\"\n",
    "  Find which tracker corresponds to yolo detections and set the tracker_id.\n",
    "  We compute the iou between the detection and trackers.\n",
    "  \"\"\"\n",
    "  detections_bboxes = format_predictions(detections, with_conf=False)\n",
    "  tracks_bboxes = np.array([track.tlbr for track in tracks], dtype=float)\n",
    "  iou = box_iou_batch(tracks_bboxes, detections_bboxes)\n",
    "  track2detection = np.argmax(iou, axis=1)\n",
    "\n",
    "  for tracker_index, detection_index in enumerate(track2detection):\n",
    "    if iou[tracker_index, detection_index] != 0:\n",
    "      detections[detection_index].tracker_id = tracks[tracker_index].track_id\n",
    "  return detections"
   ]
  },
  {
   "cell_type": "code",
   "execution_count": 17,
   "metadata": {
    "id": "1TAeakSqZJ0g"
   },
   "outputs": [],
   "source": [
    "def get_video_writer(output_video_path, fps, width, height):\n",
    "  \"\"\"\n",
    "  Create a video writer to save new frames after annotation\n",
    "  \"\"\"\n",
    "  output_video_path.parent.mkdir(exist_ok=True)\n",
    "  return cv2.VideoWriter(\n",
    "      str(output_video_path),\n",
    "      fourcc=cv2.VideoWriter_fourcc(*\"mp4v\"),\n",
    "      fps=fps,\n",
    "      frameSize=(width, height),\n",
    "      isColor=True\n",
    "  )"
   ]
  },
  {
   "cell_type": "markdown",
   "metadata": {
    "id": "k4U0FTet6CtA"
   },
   "source": [
    "Track players and save to video"
   ]
  },
  {
   "cell_type": "code",
   "execution_count": 18,
   "metadata": {
    "id": "AcdG0jwE7Nxi"
   },
   "outputs": [],
   "source": [
    "output_video_path = Path(\"/home/urvashi2022/Desktop/UI_DEVELOPMENT/tracking/output.mp4\")\n",
    "\n",
    "video_writer = get_video_writer(\n",
    "    output_video_path,\n",
    "    30,\n",
    "    frames[0].shape[1],\n",
    "    frames[0].shape[0]\n",
    ")"
   ]
  },
  {
   "cell_type": "code",
   "execution_count": 19,
   "metadata": {
    "colab": {
     "base_uri": "https://localhost:8080/"
    },
    "id": "IdbNb-LSNdZo",
    "outputId": "5e6e6fb9-625a-4eeb-f2b9-a559ac0f1b6a"
   },
   "outputs": [
    {
     "name": "stderr",
     "output_type": "stream",
     "text": [
      "100%|██████████| 400/400 [00:30<00:00, 13.22it/s]\n"
     ]
    }
   ],
   "source": [
    "for frame in tqdm(frames[:400]):\n",
    "\n",
    "    # detect players with yolo\n",
    "    detections = yolo_model(frame).pred[0].cpu().numpy()\n",
    "\n",
    "    detections = Detection.from_results(detections)\n",
    "\n",
    "    # create a new list of detection with tracker_id attribute.\n",
    "    detections_with_tracker = []\n",
    "    for detection in detections:\n",
    "      detection.tracker_id = \"\"\n",
    "      detections_with_tracker.append(detection)\n",
    "\n",
    "    # get trackers with ByteTrack\n",
    "    tracks = byte_tracker.update(\n",
    "        output_results=format_predictions(detections_with_tracker, with_conf=True),\n",
    "        img_info=frame.shape,\n",
    "        img_size=frame.shape\n",
    "    )\n",
    "\n",
    "    # set tracker_id in yolo detections\n",
    "    detections_with_tracker = match_detections_with_tracks(detections_with_tracker, tracks)\n",
    "\n",
    "    # annotate the frame\n",
    "    image = draw_detections(frame, detections_with_tracker, True)\n",
    "\n",
    "    # save the frame to video writer\n",
    "    video_writer.write(image)\n",
    "\n",
    "# save the video\n",
    "video_writer.release()"
   ]
  }
 ],
 "metadata": {
  "accelerator": "GPU",
  "colab": {
   "provenance": []
  },
  "gpuClass": "standard",
  "kernelspec": {
   "display_name": "Python 3",
   "language": "python",
   "name": "python3"
  },
  "language_info": {
   "codemirror_mode": {
    "name": "ipython",
    "version": 3
   },
   "file_extension": ".py",
   "mimetype": "text/x-python",
   "name": "python",
   "nbconvert_exporter": "python",
   "pygments_lexer": "ipython3",
   "version": "3.10.12"
  }
 },
 "nbformat": 4,
 "nbformat_minor": 0
}
